{
 "cells": [
  {
   "cell_type": "code",
   "execution_count": 1,
   "metadata": {},
   "outputs": [],
   "source": [
    "from langchain_community.document_loaders import PDFPlumberLoader\n",
    "loader = PDFPlumberLoader(\"Final.pdf\")\n",
    "docs = loader.load()\n"
   ]
  },
  {
   "cell_type": "code",
   "execution_count": 2,
   "metadata": {},
   "outputs": [
    {
     "data": {
      "text/plain": [
       "[Document(metadata={'source': 'Final.pdf', 'file_path': 'Final.pdf', 'page': 0, 'total_pages': 3}, page_content='Part 2 - Git CLI\\nEstimated Time: 60 minutes\\nImportant notice about this lab environment:\\nPlease be aware that sessions for this lab environment are not persisted. Every time you connect to\\nthis lab, a new environment is created for you. Any data you may have saved in the earlier session\\nwould get lost. Plan to complete this lab in a single session, to avoid losing your data.\\nScenario\\nCongratulations on starting the journey with your company by creating an open source Simple\\nInterest Calculator bash script on GitHub. Your changes have been accepted and merged and the\\ncompany has created a new global repository for the teams to collaborate. Other developers have\\ncontributed to this repository over time. Your team has found a mistake in one of the markdown files.\\nYou are asked to fork this repository and fix the mistake by using Git CLI in the provided lab\\nenvironment and open a pull request.\\nObjectives\\nAfter completing this lab, you will have demonstrated that you can:\\n1. Fork the upstream repository into your own account.\\n2. Clone the code locally in the lab environment.\\n3. Create a branch in the repository.\\n4. Make changes in the branch and commit it.\\n5. Merge the branch back into the main branch.\\n6. Create a Pull Request from the forked repository to the upstream repository.\\n7. Revert a change that you made earlier.\\nNote: Throughout this lab you will be prompted copy and paste URLs into a notepad and save the\\nnotepad on your own device. These URLs will be uploaded for peer review in the Final Submission\\nsection of the course. You can use any notepad app to keep note of your URLs.\\n'),\n",
       " Document(metadata={'source': 'Final.pdf', 'file_path': 'Final.pdf', 'page': 1, 'total_pages': 3}, page_content=\"Task 1: Fork the repository\\n1. Fork the project's source repository.\\n2. Save the URL of your forked repository in a notepad to submit later for peer review.\\nTask 2: Fix the typo and merge with main\\n1. Clone the forked repository in the lab environment.\\n2. Create a branch named bug-fix-typo .\\n3. Change the footer in the main README.md file from\\n2022 XYZ, Inc.\\nto\\n2023 XYZ, Inc.\\n4. Add the file with your fix and commit it with a meaningful message.\\n5. Push your fix to your to the bug-fix-typo branch. You will need to generate a personal access\\ntoken from GitHub.com to use as your password in this step. Follow the instructions in the lab\\nnamed Generate GitHub personal access token.\\n6. Switch to the main branch. Merge the bug-fix-typo branch back into your main branch. Take a\\nscreenshot showing the current branch and successful the merge operation with the file that has\\nchanged and save it as merge_branches.png or merge_branches.jpg .\\nTask 3: Revert the typo and submit a pull request\\n1. Check the content of README.md in the main branch. The file should now read:\\n2023 XYZ, Inc.\\n2. Create a new branch named bug-fix-revert .\\n3. Revert back the change you implemented in the previous task using the git revert command.\\nThe file should now read:\\n2022 XYZ, Inc.\\n\"),\n",
       " Document(metadata={'source': 'Final.pdf', 'file_path': 'Final.pdf', 'page': 2, 'total_pages': 3}, page_content='4. Push the revert to your repository in the bug-fix-revert branch. Please ensure you use the\\npersonal access token that you generated on Github for your account as the password (and not\\nyour actual git password), when prompted.\\n5. Go to the GitHub UI. Create a new pull request from the bug-fix-revert branch of your\\nrepository to the main branch of the original repository. As before, your second PR is closed\\nautomatically. Note the URL of this PR in a notepad to submit later for peer review\\nTask 4: Check the status of your branches\\n1. Navigate to the Branches section within the GitHub UI on your page. Its link will be in the\\nfollowing format:\\nhttps://github.com/<Your Github username>/jbbmo-Introduction-to-Git-and-GitHub/branches\\n2. Within this section, you will find the branch names along with their current status.\\n3. Make a note of the URL of this page in a notepad for later submission during peer review.\\nChecklist\\nAfter completing this part of the final project, you should have:\\n1. The forked repository URL.\\n2. The pull request URL.\\n3. The screenshot showing the merge operation of bug-fix-typo into main named\\nmerge_branches in png of jpg format.\\n4. The URL of the Branches page showing the branches of the repository and their status.\\nSummary\\nCongratulations! You have completed both parts of the final project. You have demonstrated that you\\nknow how to create an open source project in Git, make changes to that project and make it available\\nto the community. You can fork a GitHub repository, clone that repository to your local system, make\\nchanges to the local repository, commit the changes locally, push it back to your GitHub fork, and\\ncreate a pull request to add your update to the original repository.\\nAuthor(s)\\nUpkar Lidder\\n')]"
      ]
     },
     "execution_count": 2,
     "metadata": {},
     "output_type": "execute_result"
    }
   ],
   "source": [
    "docs"
   ]
  },
  {
   "cell_type": "code",
   "execution_count": 3,
   "metadata": {},
   "outputs": [
    {
     "name": "stdout",
     "output_type": "stream",
     "text": [
      "Number of pages in the PDF: 3\n"
     ]
    }
   ],
   "source": [
    "print(\"Number of pages in the PDF:\",len(docs))"
   ]
  },
  {
   "cell_type": "code",
   "execution_count": 4,
   "metadata": {},
   "outputs": [
    {
     "data": {
      "text/plain": [
       "'4. Push the revert to your repository in the bug-fix-revert branch. Please ensure you use the\\npersonal access token that you generated on Github for your account as the password (and not\\nyour actual git password), when prompted.\\n5. Go to the GitHub UI. Create a new pull request from the bug-fix-revert branch of your\\nrepository to the main branch of the original repository. As before, your second PR is closed\\nautomatically. Note the URL of this PR in a notepad to submit later for peer review\\nTask 4: Check the status of your branches\\n1. Navigate to the Branches section within the GitHub UI on your page. Its link will be in the\\nfollowing format:\\nhttps://github.com/<Your Github username>/jbbmo-Introduction-to-Git-and-GitHub/branches\\n2. Within this section, you will find the branch names along with their current status.\\n3. Make a note of the URL of this page in a notepad for later submission during peer review.\\nChecklist\\nAfter completing this part of the final project, you should have:\\n1. The forked repository URL.\\n2. The pull request URL.\\n3. The screenshot showing the merge operation of bug-fix-typo into main named\\nmerge_branches in png of jpg format.\\n4. The URL of the Branches page showing the branches of the repository and their status.\\nSummary\\nCongratulations! You have completed both parts of the final project. You have demonstrated that you\\nknow how to create an open source project in Git, make changes to that project and make it available\\nto the community. You can fork a GitHub repository, clone that repository to your local system, make\\nchanges to the local repository, commit the changes locally, push it back to your GitHub fork, and\\ncreate a pull request to add your update to the original repository.\\nAuthor(s)\\nUpkar Lidder\\n'"
      ]
     },
     "execution_count": 4,
     "metadata": {},
     "output_type": "execute_result"
    }
   ],
   "source": [
    "docs[2].page_content"
   ]
  },
  {
   "cell_type": "code",
   "execution_count": 5,
   "metadata": {},
   "outputs": [
    {
     "name": "stderr",
     "output_type": "stream",
     "text": [
      "C:\\Users\\shrir\\AppData\\Local\\Temp\\ipykernel_23136\\2762011161.py:4: LangChainDeprecationWarning: The class `HuggingFaceEmbeddings` was deprecated in LangChain 0.2.2 and will be removed in 1.0. An updated version of the class exists in the :class:`~langchain-huggingface package and should be used instead. To use it run `pip install -U :class:`~langchain-huggingface` and import as `from :class:`~langchain_huggingface import HuggingFaceEmbeddings``.\n",
      "  text_splitter = SemanticChunker(HuggingFaceEmbeddings())\n",
      "C:\\Users\\shrir\\AppData\\Local\\Temp\\ipykernel_23136\\2762011161.py:4: LangChainDeprecationWarning: Default values for HuggingFaceEmbeddings.model_name were deprecated in LangChain 0.2.16 and will be removed in 0.4.0. Explicitly pass a model_name to the HuggingFaceEmbeddings constructor instead.\n",
      "  text_splitter = SemanticChunker(HuggingFaceEmbeddings())\n",
      "c:\\TMLC\\Langchain\\myenv\\lib\\site-packages\\tqdm\\auto.py:21: TqdmWarning: IProgress not found. Please update jupyter and ipywidgets. See https://ipywidgets.readthedocs.io/en/stable/user_install.html\n",
      "  from .autonotebook import tqdm as notebook_tqdm\n"
     ]
    }
   ],
   "source": [
    "from langchain_experimental.text_splitter import SemanticChunker\n",
    "from langchain.embeddings import HuggingFaceEmbeddings\n",
    "\n",
    "text_splitter = SemanticChunker(HuggingFaceEmbeddings())\n",
    "documents = text_splitter.split_documents(docs)"
   ]
  },
  {
   "cell_type": "code",
   "execution_count": 6,
   "metadata": {},
   "outputs": [
    {
     "data": {
      "text/plain": [
       "[Document(metadata={'source': 'Final.pdf', 'file_path': 'Final.pdf', 'page': 0, 'total_pages': 3}, page_content='Part 2 - Git CLI\\nEstimated Time: 60 minutes\\nImportant notice about this lab environment:\\nPlease be aware that sessions for this lab environment are not persisted. Every time you connect to\\nthis lab, a new environment is created for you.'),\n",
       " Document(metadata={'source': 'Final.pdf', 'file_path': 'Final.pdf', 'page': 0, 'total_pages': 3}, page_content='Any data you may have saved in the earlier session\\nwould get lost. Plan to complete this lab in a single session, to avoid losing your data. Scenario\\nCongratulations on starting the journey with your company by creating an open source Simple\\nInterest Calculator bash script on GitHub. Your changes have been accepted and merged and the\\ncompany has created a new global repository for the teams to collaborate. Other developers have\\ncontributed to this repository over time. Your team has found a mistake in one of the markdown files. You are asked to fork this repository and fix the mistake by using Git CLI in the provided lab\\nenvironment and open a pull request. Objectives\\nAfter completing this lab, you will have demonstrated that you can:\\n1. Fork the upstream repository into your own account. 2. Clone the code locally in the lab environment. 3. Create a branch in the repository. 4. Make changes in the branch and commit it. 5. Merge the branch back into the main branch. 6. Create a Pull Request from the forked repository to the upstream repository. 7.'),\n",
       " Document(metadata={'source': 'Final.pdf', 'file_path': 'Final.pdf', 'page': 0, 'total_pages': 3}, page_content='Revert a change that you made earlier. Note: Throughout this lab you will be prompted copy and paste URLs into a notepad and save the\\nnotepad on your own device. These URLs will be uploaded for peer review in the Final Submission\\nsection of the course. You can use any notepad app to keep note of your URLs. '),\n",
       " Document(metadata={'source': 'Final.pdf', 'file_path': 'Final.pdf', 'page': 1, 'total_pages': 3}, page_content=\"Task 1: Fork the repository\\n1. Fork the project's source repository. 2. Save the URL of your forked repository in a notepad to submit later for peer review. Task 2: Fix the typo and merge with main\\n1. Clone the forked repository in the lab environment. 2. Create a branch named bug-fix-typo . 3. Change the footer in the main README.md file from\\n2022 XYZ, Inc. to\\n2023 XYZ, Inc.\"),\n",
       " Document(metadata={'source': 'Final.pdf', 'file_path': 'Final.pdf', 'page': 1, 'total_pages': 3}, page_content='4. Add the file with your fix and commit it with a meaningful message. 5. Push your fix to your to the bug-fix-typo branch. You will need to generate a personal access\\ntoken from GitHub.com to use as your password in this step. Follow the instructions in the lab\\nnamed Generate GitHub personal access token. 6.'),\n",
       " Document(metadata={'source': 'Final.pdf', 'file_path': 'Final.pdf', 'page': 1, 'total_pages': 3}, page_content='Switch to the main branch. Merge the bug-fix-typo branch back into your main branch. Take a\\nscreenshot showing the current branch and successful the merge operation with the file that has\\nchanged and save it as merge_branches.png or merge_branches.jpg . Task 3: Revert the typo and submit a pull request\\n1. Check the content of README.md in the main branch. The file should now read:\\n2023 XYZ, Inc. 2. Create a new branch named bug-fix-revert . 3. Revert back the change you implemented in the previous task using the git revert command. The file should now read:\\n2022 XYZ, Inc. '),\n",
       " Document(metadata={'source': 'Final.pdf', 'file_path': 'Final.pdf', 'page': 2, 'total_pages': 3}, page_content='4. Push the revert to your repository in the bug-fix-revert branch. Please ensure you use the\\npersonal access token that you generated on Github for your account as the password (and not\\nyour actual git password), when prompted. 5.'),\n",
       " Document(metadata={'source': 'Final.pdf', 'file_path': 'Final.pdf', 'page': 2, 'total_pages': 3}, page_content='Go to the GitHub UI. Create a new pull request from the bug-fix-revert branch of your\\nrepository to the main branch of the original repository. As before, your second PR is closed\\nautomatically. Note the URL of this PR in a notepad to submit later for peer review\\nTask 4: Check the status of your branches\\n1. Navigate to the Branches section within the GitHub UI on your page. Its link will be in the\\nfollowing format:\\nhttps://github.com/<Your Github username>/jbbmo-Introduction-to-Git-and-GitHub/branches\\n2. Within this section, you will find the branch names along with their current status. 3.'),\n",
       " Document(metadata={'source': 'Final.pdf', 'file_path': 'Final.pdf', 'page': 2, 'total_pages': 3}, page_content='Make a note of the URL of this page in a notepad for later submission during peer review. Checklist\\nAfter completing this part of the final project, you should have:\\n1. The forked repository URL. 2. The pull request URL. 3. The screenshot showing the merge operation of bug-fix-typo into main named\\nmerge_branches in png of jpg format. 4. The URL of the Branches page showing the branches of the repository and their status. Summary\\nCongratulations! You have completed both parts of the final project. You have demonstrated that you\\nknow how to create an open source project in Git, make changes to that project and make it available\\nto the community. You can fork a GitHub repository, clone that repository to your local system, make\\nchanges to the local repository, commit the changes locally, push it back to your GitHub fork, and\\ncreate a pull request to add your update to the original repository. Author(s)\\nUpkar Lidder\\n')]"
      ]
     },
     "execution_count": 6,
     "metadata": {},
     "output_type": "execute_result"
    }
   ],
   "source": [
    "documents"
   ]
  },
  {
   "cell_type": "code",
   "execution_count": 6,
   "metadata": {},
   "outputs": [
    {
     "name": "stdout",
     "output_type": "stream",
     "text": [
      "Number of chunks created:  9\n"
     ]
    }
   ],
   "source": [
    "print(\"Number of chunks created: \", len(documents))"
   ]
  },
  {
   "cell_type": "code",
   "execution_count": 7,
   "metadata": {},
   "outputs": [
    {
     "name": "stdout",
     "output_type": "stream",
     "text": [
      "\n",
      "CHUNK : 1\n",
      "Part 2 - Git CLI\n",
      "Estimated Time: 60 minutes\n",
      "Important notice about this lab environment:\n",
      "Please be aware that sessions for this lab environment are not persisted. Every time you connect to\n",
      "this lab, a new environment is created for you.\n",
      "\n",
      "CHUNK : 2\n",
      "Any data you may have saved in the earlier session\n",
      "would get lost. Plan to complete this lab in a single session, to avoid losing your data. Scenario\n",
      "Congratulations on starting the journey with your company by creating an open source Simple\n",
      "Interest Calculator bash script on GitHub. Your changes have been accepted and merged and the\n",
      "company has created a new global repository for the teams to collaborate. Other developers have\n",
      "contributed to this repository over time. Your team has found a mistake in one of the markdown files. You are asked to fork this repository and fix the mistake by using Git CLI in the provided lab\n",
      "environment and open a pull request. Objectives\n",
      "After completing this lab, you will have demonstrated that you can:\n",
      "1. Fork the upstream repository into your own account. 2. Clone the code locally in the lab environment. 3. Create a branch in the repository. 4. Make changes in the branch and commit it. 5. Merge the branch back into the main branch. 6. Create a Pull Request from the forked repository to the upstream repository. 7.\n",
      "\n",
      "CHUNK : 3\n",
      "Revert a change that you made earlier. Note: Throughout this lab you will be prompted copy and paste URLs into a notepad and save the\n",
      "notepad on your own device. These URLs will be uploaded for peer review in the Final Submission\n",
      "section of the course. You can use any notepad app to keep note of your URLs. \n",
      "\n",
      "CHUNK : 4\n",
      "Task 1: Fork the repository\n",
      "1. Fork the project's source repository. 2. Save the URL of your forked repository in a notepad to submit later for peer review. Task 2: Fix the typo and merge with main\n",
      "1. Clone the forked repository in the lab environment. 2. Create a branch named bug-fix-typo . 3. Change the footer in the main README.md file from\n",
      "2022 XYZ, Inc. to\n",
      "2023 XYZ, Inc.\n",
      "\n",
      "CHUNK : 5\n",
      "4. Add the file with your fix and commit it with a meaningful message. 5. Push your fix to your to the bug-fix-typo branch. You will need to generate a personal access\n",
      "token from GitHub.com to use as your password in this step. Follow the instructions in the lab\n",
      "named Generate GitHub personal access token. 6.\n",
      "\n",
      "CHUNK : 6\n",
      "Switch to the main branch. Merge the bug-fix-typo branch back into your main branch. Take a\n",
      "screenshot showing the current branch and successful the merge operation with the file that has\n",
      "changed and save it as merge_branches.png or merge_branches.jpg . Task 3: Revert the typo and submit a pull request\n",
      "1. Check the content of README.md in the main branch. The file should now read:\n",
      "2023 XYZ, Inc. 2. Create a new branch named bug-fix-revert . 3. Revert back the change you implemented in the previous task using the git revert command. The file should now read:\n",
      "2022 XYZ, Inc. \n",
      "\n",
      "CHUNK : 7\n",
      "4. Push the revert to your repository in the bug-fix-revert branch. Please ensure you use the\n",
      "personal access token that you generated on Github for your account as the password (and not\n",
      "your actual git password), when prompted. 5.\n",
      "\n",
      "CHUNK : 8\n",
      "Go to the GitHub UI. Create a new pull request from the bug-fix-revert branch of your\n",
      "repository to the main branch of the original repository. As before, your second PR is closed\n",
      "automatically. Note the URL of this PR in a notepad to submit later for peer review\n",
      "Task 4: Check the status of your branches\n",
      "1. Navigate to the Branches section within the GitHub UI on your page. Its link will be in the\n",
      "following format:\n",
      "https://github.com/<Your Github username>/jbbmo-Introduction-to-Git-and-GitHub/branches\n",
      "2. Within this section, you will find the branch names along with their current status. 3.\n",
      "\n",
      "CHUNK : 9\n",
      "Make a note of the URL of this page in a notepad for later submission during peer review. Checklist\n",
      "After completing this part of the final project, you should have:\n",
      "1. The forked repository URL. 2. The pull request URL. 3. The screenshot showing the merge operation of bug-fix-typo into main named\n",
      "merge_branches in png of jpg format. 4. The URL of the Branches page showing the branches of the repository and their status. Summary\n",
      "Congratulations! You have completed both parts of the final project. You have demonstrated that you\n",
      "know how to create an open source project in Git, make changes to that project and make it available\n",
      "to the community. You can fork a GitHub repository, clone that repository to your local system, make\n",
      "changes to the local repository, commit the changes locally, push it back to your GitHub fork, and\n",
      "create a pull request to add your update to the original repository. Author(s)\n",
      "Upkar Lidder\n",
      "\n"
     ]
    }
   ],
   "source": [
    "# Printing first few chunks\n",
    "for i in range(len(documents)):\n",
    "    print()\n",
    "    print(f\"CHUNK : {i+1}\")\n",
    "    print(documents[i].page_content)"
   ]
  },
  {
   "cell_type": "code",
   "execution_count": 9,
   "metadata": {},
   "outputs": [
    {
     "name": "stderr",
     "output_type": "stream",
     "text": [
      "C:\\Users\\shrir\\AppData\\Local\\Temp\\ipykernel_13540\\2495835858.py:5: LangChainDeprecationWarning: Default values for HuggingFaceEmbeddings.model_name were deprecated in LangChain 0.2.16 and will be removed in 0.4.0. Explicitly pass a model_name to the HuggingFaceEmbeddings constructor instead.\n",
      "  embedder = HuggingFaceEmbeddings()\n"
     ]
    }
   ],
   "source": [
    "from langchain_community.embeddings import HuggingFaceEmbeddings\n",
    "from langchain_community.vectorstores import FAISS\n",
    "\n",
    "# Instantiate the embedding model\n",
    "embedder = HuggingFaceEmbeddings()\n",
    "\n",
    "# Create the vector store \n",
    "vector = FAISS.from_documents(documents, embedder)"
   ]
  },
  {
   "cell_type": "code",
   "execution_count": 10,
   "metadata": {},
   "outputs": [
    {
     "data": {
      "text/plain": [
       "<langchain_community.vectorstores.faiss.FAISS at 0x20c94e81eb0>"
      ]
     },
     "execution_count": 10,
     "metadata": {},
     "output_type": "execute_result"
    }
   ],
   "source": [
    "vector"
   ]
  },
  {
   "cell_type": "code",
   "execution_count": 11,
   "metadata": {},
   "outputs": [],
   "source": [
    "# Input\n",
    "retriever = vector.as_retriever(search_type=\"similarity\", search_kwargs={\"k\": 3})\n",
    "retrieved_docs = retriever.invoke(\"How to revert a typo and submit a pull request?\")\n"
   ]
  },
  {
   "cell_type": "code",
   "execution_count": 12,
   "metadata": {},
   "outputs": [
    {
     "data": {
      "text/plain": [
       "[Document(metadata={'source': 'Final.pdf', 'file_path': 'Final.pdf', 'page': 1, 'total_pages': 3}, page_content='Switch to the main branch. Merge the bug-fix-typo branch back into your main branch. Take a\\nscreenshot showing the current branch and successful the merge operation with the file that has\\nchanged and save it as merge_branches.png or merge_branches.jpg . Task 3: Revert the typo and submit a pull request\\n1. Check the content of README.md in the main branch. The file should now read:\\n2023 XYZ, Inc. 2. Create a new branch named bug-fix-revert . 3. Revert back the change you implemented in the previous task using the git revert command. The file should now read:\\n2022 XYZ, Inc. '),\n",
       " Document(metadata={'source': 'Final.pdf', 'file_path': 'Final.pdf', 'page': 1, 'total_pages': 3}, page_content='4. Add the file with your fix and commit it with a meaningful message. 5. Push your fix to your to the bug-fix-typo branch. You will need to generate a personal access\\ntoken from GitHub.com to use as your password in this step. Follow the instructions in the lab\\nnamed Generate GitHub personal access token. 6.'),\n",
       " Document(metadata={'source': 'Final.pdf', 'file_path': 'Final.pdf', 'page': 1, 'total_pages': 3}, page_content=\"Task 1: Fork the repository\\n1. Fork the project's source repository. 2. Save the URL of your forked repository in a notepad to submit later for peer review. Task 2: Fix the typo and merge with main\\n1. Clone the forked repository in the lab environment. 2. Create a branch named bug-fix-typo . 3. Change the footer in the main README.md file from\\n2022 XYZ, Inc. to\\n2023 XYZ, Inc.\")]"
      ]
     },
     "execution_count": 12,
     "metadata": {},
     "output_type": "execute_result"
    }
   ],
   "source": [
    "retrieved_docs"
   ]
  },
  {
   "cell_type": "code",
   "execution_count": 13,
   "metadata": {},
   "outputs": [
    {
     "name": "stderr",
     "output_type": "stream",
     "text": [
      "C:\\Users\\shrir\\AppData\\Local\\Temp\\ipykernel_13540\\3290478438.py:4: LangChainDeprecationWarning: The class `Ollama` was deprecated in LangChain 0.3.1 and will be removed in 1.0.0. An updated version of the class exists in the :class:`~langchain-ollama package and should be used instead. To use it run `pip install -U :class:`~langchain-ollama` and import as `from :class:`~langchain_ollama import OllamaLLM``.\n",
      "  llm = Ollama(model=\"llama2\")\n"
     ]
    }
   ],
   "source": [
    "from langchain_community.llms import Ollama\n",
    "\n",
    "# Define llm\n",
    "llm = Ollama(model=\"llama2\")"
   ]
  },
  {
   "cell_type": "code",
   "execution_count": 14,
   "metadata": {},
   "outputs": [],
   "source": [
    "from langchain.chains import RetrievalQA\n",
    "from langchain.chains.llm import LLMChain\n",
    "from langchain.chains.combine_documents.stuff import StuffDocumentsChain\n",
    "from langchain.prompts import PromptTemplate"
   ]
  },
  {
   "cell_type": "code",
   "execution_count": 15,
   "metadata": {},
   "outputs": [
    {
     "name": "stderr",
     "output_type": "stream",
     "text": [
      "C:\\Users\\shrir\\AppData\\Local\\Temp\\ipykernel_13540\\3343225113.py:14: LangChainDeprecationWarning: The class `LLMChain` was deprecated in LangChain 0.1.17 and will be removed in 1.0. Use :meth:`~RunnableSequence, e.g., `prompt | llm`` instead.\n",
      "  llm_chain = LLMChain(\n",
      "C:\\Users\\shrir\\AppData\\Local\\Temp\\ipykernel_13540\\3343225113.py:25: LangChainDeprecationWarning: This class is deprecated. Use the `create_stuff_documents_chain` constructor instead. See migration guide here: https://python.langchain.com/docs/versions/migrating_chains/stuff_docs_chain/\n",
      "  combine_documents_chain = StuffDocumentsChain(\n",
      "C:\\Users\\shrir\\AppData\\Local\\Temp\\ipykernel_13540\\3343225113.py:32: LangChainDeprecationWarning: This class is deprecated. Use the `create_retrieval_chain` constructor instead. See migration guide here: https://python.langchain.com/docs/versions/migrating_chains/retrieval_qa/\n",
      "  qa = RetrievalQA(\n"
     ]
    }
   ],
   "source": [
    "prompt = \"\"\"\n",
    "1. Use the following pieces of context to answer the question at the end.\n",
    "2. If you don't know the answer, just say that \"I don't know\" but don't make up an answer on your own.\\n\n",
    "3. Keep the answer crisp and limited to 3,4 sentences.\n",
    "\n",
    "Context: {context}\n",
    "\n",
    "Question: {question}\n",
    "\n",
    "Helpful Answer:\"\"\"\n",
    "\n",
    "QA_CHAIN_PROMPT = PromptTemplate.from_template(prompt) \n",
    "\n",
    "llm_chain = LLMChain(\n",
    "                  llm=llm, \n",
    "                  prompt=QA_CHAIN_PROMPT, \n",
    "                  callbacks=None, \n",
    "                  verbose=True)\n",
    "\n",
    "document_prompt = PromptTemplate(\n",
    "    input_variables=[\"page_content\", \"source\"],\n",
    "    template=\"Context:\\ncontent:{page_content}\\nsource:{source}\",\n",
    ")\n",
    "\n",
    "combine_documents_chain = StuffDocumentsChain(\n",
    "                  llm_chain=llm_chain,\n",
    "                  document_variable_name=\"context\",\n",
    "                  document_prompt=document_prompt,\n",
    "                  callbacks=None,\n",
    "              )\n",
    "\n",
    "qa = RetrievalQA(\n",
    "                  combine_documents_chain=combine_documents_chain,\n",
    "                  verbose=True,\n",
    "                  retriever=retriever,\n",
    "                  return_source_documents=True,\n",
    "              )\n"
   ]
  },
  {
   "cell_type": "code",
   "execution_count": 16,
   "metadata": {},
   "outputs": [
    {
     "name": "stderr",
     "output_type": "stream",
     "text": [
      "C:\\Users\\shrir\\AppData\\Local\\Temp\\ipykernel_13540\\1655978086.py:3: LangChainDeprecationWarning: The method `Chain.__call__` was deprecated in langchain 0.1.0 and will be removed in 1.0. Use :meth:`~invoke` instead.\n",
      "  print(qa(\"How to fork a repository?\")[\"result\"])\n"
     ]
    },
    {
     "name": "stdout",
     "output_type": "stream",
     "text": [
      "\n",
      "\n",
      "\u001b[1m> Entering new RetrievalQA chain...\u001b[0m\n",
      "\n",
      "\n",
      "\u001b[1m> Entering new LLMChain chain...\u001b[0m\n",
      "Prompt after formatting:\n",
      "\u001b[32;1m\u001b[1;3m\n",
      "1. Use the following pieces of context to answer the question at the end.\n",
      "2. If you don't know the answer, just say that \"I don't know\" but don't make up an answer on your own.\n",
      "\n",
      "3. Keep the answer crisp and limited to 3,4 sentences.\n",
      "\n",
      "Context: Context:\n",
      "content:Any data you may have saved in the earlier session\n",
      "would get lost. Plan to complete this lab in a single session, to avoid losing your data. Scenario\n",
      "Congratulations on starting the journey with your company by creating an open source Simple\n",
      "Interest Calculator bash script on GitHub. Your changes have been accepted and merged and the\n",
      "company has created a new global repository for the teams to collaborate. Other developers have\n",
      "contributed to this repository over time. Your team has found a mistake in one of the markdown files. You are asked to fork this repository and fix the mistake by using Git CLI in the provided lab\n",
      "environment and open a pull request. Objectives\n",
      "After completing this lab, you will have demonstrated that you can:\n",
      "1. Fork the upstream repository into your own account. 2. Clone the code locally in the lab environment. 3. Create a branch in the repository. 4. Make changes in the branch and commit it. 5. Merge the branch back into the main branch. 6. Create a Pull Request from the forked repository to the upstream repository. 7.\n",
      "source:Final.pdf\n",
      "\n",
      "Context:\n",
      "content:Make a note of the URL of this page in a notepad for later submission during peer review. Checklist\n",
      "After completing this part of the final project, you should have:\n",
      "1. The forked repository URL. 2. The pull request URL. 3. The screenshot showing the merge operation of bug-fix-typo into main named\n",
      "merge_branches in png of jpg format. 4. The URL of the Branches page showing the branches of the repository and their status. Summary\n",
      "Congratulations! You have completed both parts of the final project. You have demonstrated that you\n",
      "know how to create an open source project in Git, make changes to that project and make it available\n",
      "to the community. You can fork a GitHub repository, clone that repository to your local system, make\n",
      "changes to the local repository, commit the changes locally, push it back to your GitHub fork, and\n",
      "create a pull request to add your update to the original repository. Author(s)\n",
      "Upkar Lidder\n",
      "\n",
      "source:Final.pdf\n",
      "\n",
      "Context:\n",
      "content:Go to the GitHub UI. Create a new pull request from the bug-fix-revert branch of your\n",
      "repository to the main branch of the original repository. As before, your second PR is closed\n",
      "automatically. Note the URL of this PR in a notepad to submit later for peer review\n",
      "Task 4: Check the status of your branches\n",
      "1. Navigate to the Branches section within the GitHub UI on your page. Its link will be in the\n",
      "following format:\n",
      "https://github.com/<Your Github username>/jbbmo-Introduction-to-Git-and-GitHub/branches\n",
      "2. Within this section, you will find the branch names along with their current status. 3.\n",
      "source:Final.pdf\n",
      "\n",
      "Question: How to fork a repository?\n",
      "\n",
      "Helpful Answer:\u001b[0m\n",
      "\n",
      "\u001b[1m> Finished chain.\u001b[0m\n",
      "\n",
      "\u001b[1m> Finished chain.\u001b[0m\n",
      "To fork a repository on GitHub, follow these steps:\n",
      "\n",
      "1. Log in to your GitHub account and navigate to the repository you want to fork.\n",
      "2. Click on the \"Fork\" button located on the right-hand side of the repository page.\n",
      "3. A pop-up window will appear with the option to fork the repository. Click on \"Create a fork\" to proceed.\n",
      "4. You will then be prompted to choose a name and description for your fork. Enter the desired name and description, then click \"Create fork\".\n",
      "5. Your fork of the repository will now be created in your own GitHub account, and you will be the owner of the fork.\n",
      "\n",
      "Note: Forking a repository does not delete the original repository, it simply creates a copy of the repository in your own account.\n"
     ]
    }
   ],
   "source": [
    "#Input\n",
    "\n",
    "print(qa(\"How to fork a repository?\")[\"result\"])"
   ]
  },
  {
   "cell_type": "code",
   "execution_count": null,
   "metadata": {},
   "outputs": [],
   "source": []
  }
 ],
 "metadata": {
  "kernelspec": {
   "display_name": "myenv",
   "language": "python",
   "name": "python3"
  },
  "language_info": {
   "codemirror_mode": {
    "name": "ipython",
    "version": 3
   },
   "file_extension": ".py",
   "mimetype": "text/x-python",
   "name": "python",
   "nbconvert_exporter": "python",
   "pygments_lexer": "ipython3",
   "version": "3.9.20"
  }
 },
 "nbformat": 4,
 "nbformat_minor": 2
}
